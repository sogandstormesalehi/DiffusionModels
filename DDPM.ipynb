{
  "nbformat": 4,
  "nbformat_minor": 0,
  "metadata": {
    "colab": {
      "provenance": []
    },
    "kernelspec": {
      "name": "python3",
      "display_name": "Python 3"
    },
    "language_info": {
      "name": "python"
    }
  },
  "cells": [
    {
      "cell_type": "code",
      "execution_count": 1,
      "metadata": {
        "colab": {
          "base_uri": "https://localhost:8080/"
        },
        "id": "xrKSw_MEJjgQ",
        "outputId": "9c5bc573-61f7-49f2-dde4-ad4d8928a76f"
      },
      "outputs": [
        {
          "output_type": "stream",
          "name": "stdout",
          "text": [
            "Looking in indexes: https://pypi.org/simple, https://us-python.pkg.dev/colab-wheels/public/simple/\n",
            "Requirement already satisfied: labml_nn in /usr/local/lib/python3.8/dist-packages (0.4.133)\n",
            "Requirement already satisfied: fairscale in /usr/local/lib/python3.8/dist-packages (from labml_nn) (0.4.13)\n",
            "Requirement already satisfied: torchtext in /usr/local/lib/python3.8/dist-packages (from labml_nn) (0.14.1)\n",
            "Requirement already satisfied: labml>=0.4.158 in /usr/local/lib/python3.8/dist-packages (from labml_nn) (0.4.161)\n",
            "Requirement already satisfied: torchvision in /usr/local/lib/python3.8/dist-packages (from labml_nn) (0.14.1+cu116)\n",
            "Requirement already satisfied: labml-helpers>=0.4.89 in /usr/local/lib/python3.8/dist-packages (from labml_nn) (0.4.89)\n",
            "Requirement already satisfied: torch in /usr/local/lib/python3.8/dist-packages (from labml_nn) (1.13.1+cu116)\n",
            "Requirement already satisfied: numpy in /usr/local/lib/python3.8/dist-packages (from labml_nn) (1.22.4)\n",
            "Requirement already satisfied: einops in /usr/local/lib/python3.8/dist-packages (from labml_nn) (0.6.0)\n",
            "Requirement already satisfied: pyyaml in /usr/local/lib/python3.8/dist-packages (from labml>=0.4.158->labml_nn) (6.0)\n",
            "Requirement already satisfied: gitpython in /usr/local/lib/python3.8/dist-packages (from labml>=0.4.158->labml_nn) (3.1.31)\n",
            "Requirement already satisfied: typing-extensions in /usr/local/lib/python3.8/dist-packages (from torch->labml_nn) (4.5.0)\n",
            "Requirement already satisfied: requests in /usr/local/lib/python3.8/dist-packages (from torchtext->labml_nn) (2.25.1)\n",
            "Requirement already satisfied: tqdm in /usr/local/lib/python3.8/dist-packages (from torchtext->labml_nn) (4.64.1)\n",
            "Requirement already satisfied: pillow!=8.3.*,>=5.3.0 in /usr/local/lib/python3.8/dist-packages (from torchvision->labml_nn) (8.4.0)\n",
            "Requirement already satisfied: gitdb<5,>=4.0.1 in /usr/local/lib/python3.8/dist-packages (from gitpython->labml>=0.4.158->labml_nn) (4.0.10)\n",
            "Requirement already satisfied: urllib3<1.27,>=1.21.1 in /usr/local/lib/python3.8/dist-packages (from requests->torchtext->labml_nn) (1.26.14)\n",
            "Requirement already satisfied: certifi>=2017.4.17 in /usr/local/lib/python3.8/dist-packages (from requests->torchtext->labml_nn) (2022.12.7)\n",
            "Requirement already satisfied: idna<3,>=2.5 in /usr/local/lib/python3.8/dist-packages (from requests->torchtext->labml_nn) (2.10)\n",
            "Requirement already satisfied: chardet<5,>=3.0.2 in /usr/local/lib/python3.8/dist-packages (from requests->torchtext->labml_nn) (4.0.0)\n",
            "Requirement already satisfied: smmap<6,>=3.0.1 in /usr/local/lib/python3.8/dist-packages (from gitdb<5,>=4.0.1->gitpython->labml>=0.4.158->labml_nn) (5.0.0)\n"
          ]
        }
      ],
      "source": [
        "%run UNet.ipynb"
      ]
    },
    {
      "cell_type": "code",
      "source": [
        "from typing import Tuple, Optional\n",
        "import torch\n",
        "import torch.nn.functional as F\n",
        "import torch.utils.data\n",
        "from torch import nn"
      ],
      "metadata": {
        "id": "IxHnPyQ9KvpL"
      },
      "execution_count": 2,
      "outputs": []
    },
    {
      "cell_type": "code",
      "source": [
        "def gather(consts, t):\n",
        "  c = consts.gather(-1, t)\n",
        "  return c.reshape(-1, 1, 1, 1)"
      ],
      "metadata": {
        "id": "il5lR-8N8TUx"
      },
      "execution_count": 3,
      "outputs": []
    },
    {
      "cell_type": "code",
      "source": [
        "class DDPM:\n",
        "  def __init__(self, eps, steps, device):\n",
        "    super().__init__()\n",
        "    self.eps = eps\n",
        "    self.steps = steps\n",
        "    self.beta = torch.linspace(0.0001, 0.02, steps).to(device)\n",
        "    self.alpha = 1 - self.beta\n",
        "    self.alpha_bar = torch.cumprod(self.alpha, dim = 0)\n",
        "    self.sigma_2 = self.beta\n",
        "\n",
        "  def q_xt_given_x0(self, x0, t):\n",
        "    mean = gather(self.alpha_bar, t) ** 0.5 * x0\n",
        "    variance = 1 - gather(self.alpha_bar, t)\n",
        "    return mean, variance\n",
        "\n",
        "  def sample_from_q(self, x0, t, eps):\n",
        "    if eps is None:\n",
        "      eps = torch.randn_like(x0)\n",
        "    mean, variance = self.q_xt_given_x0(x0, t)\n",
        "    # np.random.normal(mu, sigma, n)\n",
        "    return mean + (variance ** 0.5) * eps\n",
        "\n",
        "  def sample_from_p(self, xt, t):\n",
        "    eps = self.eps(xt, t)\n",
        "    alpha_bar = gather(self.alpha_bar, t)\n",
        "    alpha = gather(self.alpha, t)\n",
        "    beta = 1 - alpha\n",
        "    coefficient = beta / (1 - alpha_bar) ** 0.5\n",
        "    mean = ((1 / alpha) ** 0.5) * (xt - coefficient * eps)\n",
        "    variance = gather(self.sigma_2, t)\n",
        "    eps_ = torch.randn(xt.shape, device = xt.device)\n",
        "    return mean + (variance ** 0.5) * eps_\n",
        "\n",
        "  def loss(self, x0, noise):\n",
        "    batch_size = x0.shape[0]\n",
        "    t = torch.randint(0, self.steps, (batch_size,), device = x0.device, dtype = torch.long)\n",
        "    if noise is None:\n",
        "      noise = torch.randn_like(x0)\n",
        "    xt = self.sample_from_q(x0, t, noise)\n",
        "    eps_model = self.eps(xt, t)\n",
        "    return F.mse_loss(noise, eps_model)"
      ],
      "metadata": {
        "id": "uiR284dH8qmb"
      },
      "execution_count": 4,
      "outputs": []
    }
  ]
}