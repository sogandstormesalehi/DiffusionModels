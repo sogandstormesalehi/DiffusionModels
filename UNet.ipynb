{
  "cells": [
    {
      "cell_type": "code",
      "execution_count": 5,
      "metadata": {
        "colab": {
          "base_uri": "https://localhost:8080/"
        },
        "id": "B2GP9wEogFay",
        "outputId": "2c5b02c3-ec60-4ccd-beac-97b4877accf1"
      },
      "outputs": [
        {
          "output_type": "stream",
          "name": "stdout",
          "text": [
            "Looking in indexes: https://pypi.org/simple, https://us-python.pkg.dev/colab-wheels/public/simple/\n",
            "Requirement already satisfied: labml_nn in /usr/local/lib/python3.8/dist-packages (0.4.133)\n",
            "Requirement already satisfied: einops in /usr/local/lib/python3.8/dist-packages (from labml_nn) (0.6.0)\n",
            "Requirement already satisfied: torchvision in /usr/local/lib/python3.8/dist-packages (from labml_nn) (0.14.1+cu116)\n",
            "Requirement already satisfied: labml-helpers>=0.4.89 in /usr/local/lib/python3.8/dist-packages (from labml_nn) (0.4.89)\n",
            "Requirement already satisfied: torchtext in /usr/local/lib/python3.8/dist-packages (from labml_nn) (0.14.1)\n",
            "Requirement already satisfied: torch in /usr/local/lib/python3.8/dist-packages (from labml_nn) (1.13.1+cu116)\n",
            "Requirement already satisfied: fairscale in /usr/local/lib/python3.8/dist-packages (from labml_nn) (0.4.13)\n",
            "Requirement already satisfied: numpy in /usr/local/lib/python3.8/dist-packages (from labml_nn) (1.22.4)\n",
            "Requirement already satisfied: labml>=0.4.158 in /usr/local/lib/python3.8/dist-packages (from labml_nn) (0.4.161)\n",
            "Requirement already satisfied: pyyaml in /usr/local/lib/python3.8/dist-packages (from labml>=0.4.158->labml_nn) (6.0)\n",
            "Requirement already satisfied: gitpython in /usr/local/lib/python3.8/dist-packages (from labml>=0.4.158->labml_nn) (3.1.31)\n",
            "Requirement already satisfied: typing-extensions in /usr/local/lib/python3.8/dist-packages (from torch->labml_nn) (4.5.0)\n",
            "Requirement already satisfied: requests in /usr/local/lib/python3.8/dist-packages (from torchtext->labml_nn) (2.25.1)\n",
            "Requirement already satisfied: tqdm in /usr/local/lib/python3.8/dist-packages (from torchtext->labml_nn) (4.64.1)\n",
            "Requirement already satisfied: pillow!=8.3.*,>=5.3.0 in /usr/local/lib/python3.8/dist-packages (from torchvision->labml_nn) (8.4.0)\n",
            "Requirement already satisfied: gitdb<5,>=4.0.1 in /usr/local/lib/python3.8/dist-packages (from gitpython->labml>=0.4.158->labml_nn) (4.0.10)\n",
            "Requirement already satisfied: chardet<5,>=3.0.2 in /usr/local/lib/python3.8/dist-packages (from requests->torchtext->labml_nn) (4.0.0)\n",
            "Requirement already satisfied: idna<3,>=2.5 in /usr/local/lib/python3.8/dist-packages (from requests->torchtext->labml_nn) (2.10)\n",
            "Requirement already satisfied: urllib3<1.27,>=1.21.1 in /usr/local/lib/python3.8/dist-packages (from requests->torchtext->labml_nn) (1.26.14)\n",
            "Requirement already satisfied: certifi>=2017.4.17 in /usr/local/lib/python3.8/dist-packages (from requests->torchtext->labml_nn) (2022.12.7)\n",
            "Requirement already satisfied: smmap<6,>=3.0.1 in /usr/local/lib/python3.8/dist-packages (from gitdb<5,>=4.0.1->gitpython->labml>=0.4.158->labml_nn) (5.0.0)\n"
          ]
        }
      ],
      "source": [
        "!pip install labml_nn"
      ]
    },
    {
      "cell_type": "code",
      "source": [
        "import math\n",
        "from typing import Optional, Tuple, Union, List\n",
        "import torch\n",
        "from torch import nn\n",
        "from labml_helpers.module import Module"
      ],
      "metadata": {
        "id": "JdUQ2vDJz0gj"
      },
      "execution_count": 6,
      "outputs": []
    },
    {
      "cell_type": "code",
      "source": [
        "class Swish(Module):\n",
        "  def forward(self, x):#x⋅σ(x)\n",
        "    return x * torch.sigmoid(x)"
      ],
      "metadata": {
        "id": "ewtfzC9m5P2s"
      },
      "execution_count": 7,
      "outputs": []
    },
    {
      "cell_type": "code",
      "source": [
        "class TimeEmbedding(nn.Module):\n",
        "\n",
        "  def __init__(self, n_channels):\n",
        "    super().__init__()\n",
        "    self.n_channels = n_channels\n",
        "    self.lin1 = nn.Linear(self.n_channels // 4, self.n_channels)\n",
        "    self.act = Swish()\n",
        "    self.lin2 = nn.Linear(self.n_channels, self.n_channels)\n",
        "\n",
        "  def forward(self, t: torch.Tensor):\n",
        "    half_dim = self.n_channels // 8\n",
        "    emb = math.log(10000) / (half_dim - 1)\n",
        "    emb = torch.exp(torch.arange(half_dim, device = t.device) * -emb)\n",
        "    emb = t[:, None] * emb[None, :]\n",
        "    print(t[:, None])\n",
        "    print(emb[None, :])\n",
        "    emb = torch.cat((emb.sin(), emb.cos()), dim = 1)\n",
        "    emb = self.act(self.lin1(emb))\n",
        "    emb = self.lin2(emb)\n",
        "    return emb"
      ],
      "metadata": {
        "id": "Qpv7aU6f-wG7"
      },
      "execution_count": 8,
      "outputs": []
    },
    {
      "cell_type": "code",
      "source": [
        "class ResidualBlock(Module): # two convolution layers with group normalization\n",
        "  def __init__(self, in_channels, out_channels, time_channels, n_groups = 32, dropout = 0.1): # n_groups = the number of groups for group normalization\n",
        "    super().__init__()\n",
        "    self.norm1 = nn.GroupNorm(n_groups, in_channels)\n",
        "    self.activation1 = Swish()\n",
        "    self.conv1 = nn.Conv2d(in_channels, out_channels, kernel_size = (3, 3), padding=(1, 1))\n",
        "    self.norm1 = nn.GroupNorm(n_groups, out_channels)\n",
        "    self.activation2 = Swish()\n",
        "    self.conv1 = nn.Conv2d(out_channels, out_channels, kernel_size = (3, 3), padding=(1, 1))\n",
        "    if in_channels != out_channels:\n",
        "      self.shortcut = nn.Conv2d(in_channels, out_channels, kernel_size=(1, 1))\n",
        "    else:\n",
        "      self.shortcut = nn.Identity()\n",
        "    self.time_emb = nn.Linear(time_channels, out_channels) \n",
        "    self.time_activation = Swish()\n",
        "    self.dropout = nn.Dropout(dropout)\n",
        "\n",
        "  def forward(self, x, t):\n",
        "    x_copy = x.copy()\n",
        "    x = self.norm1(x)\n",
        "    x = self.activation1(x)\n",
        "    x = self.conv1(x)\n",
        "    x += self.time_emb(self.time_act(t))[:, :, None, None]\n",
        "    print(self.time_emb(self.time_act(t))[:, :, None, None])\n",
        "    x = self.norm2(x)\n",
        "    x = self.activation2(x)\n",
        "    x = self.conv1(x)\n",
        "    print(x)\n",
        "    print(x + self.shortcut(x))\n",
        "    return x + self.shortcut(x)"
      ],
      "metadata": {
        "id": "L5P25GfeFn1A"
      },
      "execution_count": 10,
      "outputs": []
    }
  ],
  "metadata": {
    "colab": {
      "provenance": []
    },
    "kernelspec": {
      "display_name": "Python 3",
      "name": "python3"
    },
    "language_info": {
      "name": "python"
    }
  },
  "nbformat": 4,
  "nbformat_minor": 0
}